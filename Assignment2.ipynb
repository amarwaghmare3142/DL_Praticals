{
 "cells": [
  {
   "cell_type": "code",
   "execution_count": 1,
   "id": "28e115ff",
   "metadata": {
    "id": "28e115ff"
   },
   "outputs": [
    {
     "name": "stdout",
     "output_type": "stream",
     "text": [
      "WARNING:tensorflow:From C:\\Python311\\Lib\\site-packages\\keras\\src\\losses.py:2976: The name tf.losses.sparse_softmax_cross_entropy is deprecated. Please use tf.compat.v1.losses.sparse_softmax_cross_entropy instead.\n",
      "\n"
     ]
    }
   ],
   "source": [
    "from tensorflow.keras.datasets import mnist"
   ]
  },
  {
   "cell_type": "code",
   "execution_count": 2,
   "id": "698405de",
   "metadata": {
    "colab": {
     "base_uri": "https://localhost:8080/"
    },
    "id": "698405de",
    "outputId": "bd6b1801-0684-4196-fd70-d7305028ac37"
   },
   "outputs": [],
   "source": [
    "(x_train, y_train), (x_test, y_test) = mnist.load_data()"
   ]
  },
  {
   "cell_type": "code",
   "execution_count": 3,
   "id": "8beef4f4",
   "metadata": {
    "id": "8beef4f4"
   },
   "outputs": [],
   "source": [
    "x_train = x_train.reshape(x_train.shape[0],28*28)\n",
    "x_test = x_test.reshape(x_test.shape[0],28*28)\n",
    "x_train = x_train.astype(\"float32\")/255.0\n",
    "x_test = x_test.astype('float32')/255.0"
   ]
  },
  {
   "cell_type": "code",
   "execution_count": 4,
   "id": "03ba0f61",
   "metadata": {
    "id": "03ba0f61"
   },
   "outputs": [
    {
     "name": "stdout",
     "output_type": "stream",
     "text": [
      "Requirement already satisfied: sklearn in c:\\python311\\lib\\site-packages (0.0.post11)\n"
     ]
    }
   ],
   "source": [
    "!pip install sklearn\n",
    "from sklearn.preprocessing import LabelBinarizer"
   ]
  },
  {
   "cell_type": "code",
   "execution_count": 5,
   "id": "235fb42e",
   "metadata": {
    "id": "235fb42e"
   },
   "outputs": [],
   "source": [
    "lb = LabelBinarizer()"
   ]
  },
  {
   "cell_type": "code",
   "execution_count": 6,
   "id": "9a63fb2f",
   "metadata": {
    "id": "9a63fb2f"
   },
   "outputs": [],
   "source": [
    "y_train = lb.fit_transform(y_train)\n",
    "y_test = lb.transform(y_test)"
   ]
  },
  {
   "cell_type": "code",
   "execution_count": 7,
   "id": "a96cc61b",
   "metadata": {
    "id": "a96cc61b"
   },
   "outputs": [],
   "source": [
    "from tensorflow.keras.models import Sequential\n",
    "from tensorflow.keras.layers import Dense"
   ]
  },
  {
   "cell_type": "code",
   "execution_count": 8,
   "id": "2191b129",
   "metadata": {
    "colab": {
     "base_uri": "https://localhost:8080/"
    },
    "id": "2191b129",
    "outputId": "85ac9cd2-f4f6-4424-f70b-f371ad57edd8"
   },
   "outputs": [
    {
     "name": "stdout",
     "output_type": "stream",
     "text": [
      "WARNING:tensorflow:From C:\\Python311\\Lib\\site-packages\\keras\\src\\backend.py:873: The name tf.get_default_graph is deprecated. Please use tf.compat.v1.get_default_graph instead.\n",
      "\n",
      "Model: \"sequential\"\n",
      "_________________________________________________________________\n",
      " Layer (type)                Output Shape              Param #   \n",
      "=================================================================\n",
      " dense (Dense)               (None, 128)               100480    \n",
      "                                                                 \n",
      " dense_1 (Dense)             (None, 64)                8256      \n",
      "                                                                 \n",
      " dense_2 (Dense)             (None, 10)                650       \n",
      "                                                                 \n",
      "=================================================================\n",
      "Total params: 109386 (427.29 KB)\n",
      "Trainable params: 109386 (427.29 KB)\n",
      "Non-trainable params: 0 (0.00 Byte)\n",
      "_________________________________________________________________\n"
     ]
    }
   ],
   "source": [
    "model = Sequential()\n",
    "model.add(Dense(128,input_shape=(784,),activation=\"sigmoid\")) #imp\n",
    "model.add(Dense(64,activation=\"sigmoid\"))\n",
    "model.add(Dense(10,activation=\"softmax\"))\n",
    "model.summary()"
   ]
  },
  {
   "cell_type": "code",
   "execution_count": 9,
   "id": "742d79d6",
   "metadata": {
    "id": "742d79d6"
   },
   "outputs": [],
   "source": [
    "from tensorflow.keras.optimizers import SGD"
   ]
  },
  {
   "cell_type": "code",
   "execution_count": 10,
   "id": "c7d28f7f",
   "metadata": {
    "id": "c7d28f7f"
   },
   "outputs": [],
   "source": [
    "sgd = SGD(0.01)"
   ]
  },
  {
   "cell_type": "code",
   "execution_count": 11,
   "id": "f17856f8",
   "metadata": {
    "colab": {
     "base_uri": "https://localhost:8080/"
    },
    "id": "f17856f8",
    "outputId": "35cff074-032c-4903-c89e-6f04cfecb0ee"
   },
   "outputs": [
    {
     "name": "stdout",
     "output_type": "stream",
     "text": [
      "Epoch 1/10\n",
      "WARNING:tensorflow:From C:\\Python311\\Lib\\site-packages\\keras\\src\\utils\\tf_utils.py:492: The name tf.ragged.RaggedTensorValue is deprecated. Please use tf.compat.v1.ragged.RaggedTensorValue instead.\n",
      "\n",
      "WARNING:tensorflow:From C:\\Python311\\Lib\\site-packages\\keras\\src\\engine\\base_layer_utils.py:384: The name tf.executing_eagerly_outside_functions is deprecated. Please use tf.compat.v1.executing_eagerly_outside_functions instead.\n",
      "\n",
      "469/469 [==============================] - 7s 9ms/step - loss: 2.2822 - accuracy: 0.1629 - val_loss: 2.2485 - val_accuracy: 0.3122\n",
      "Epoch 2/10\n",
      "469/469 [==============================] - 4s 8ms/step - loss: 2.2215 - accuracy: 0.3474 - val_loss: 2.1882 - val_accuracy: 0.4845\n",
      "Epoch 3/10\n",
      "469/469 [==============================] - 4s 8ms/step - loss: 2.1532 - accuracy: 0.4895 - val_loss: 2.1065 - val_accuracy: 0.5234\n",
      "Epoch 4/10\n",
      "469/469 [==============================] - 4s 8ms/step - loss: 2.0582 - accuracy: 0.5476 - val_loss: 1.9931 - val_accuracy: 0.5885\n",
      "Epoch 5/10\n",
      "469/469 [==============================] - 3s 7ms/step - loss: 1.9288 - accuracy: 0.5965 - val_loss: 1.8435 - val_accuracy: 0.6081\n",
      "Epoch 6/10\n",
      "469/469 [==============================] - 4s 8ms/step - loss: 1.7673 - accuracy: 0.6223 - val_loss: 1.6683 - val_accuracy: 0.6399\n",
      "Epoch 7/10\n",
      "469/469 [==============================] - 4s 8ms/step - loss: 1.5886 - accuracy: 0.6534 - val_loss: 1.4855 - val_accuracy: 0.6642\n",
      "Epoch 8/10\n",
      "469/469 [==============================] - 4s 8ms/step - loss: 1.4100 - accuracy: 0.6839 - val_loss: 1.3112 - val_accuracy: 0.6953\n",
      "Epoch 9/10\n",
      "469/469 [==============================] - 4s 8ms/step - loss: 1.2469 - accuracy: 0.7146 - val_loss: 1.1594 - val_accuracy: 0.7255\n",
      "Epoch 10/10\n",
      "469/469 [==============================] - 4s 8ms/step - loss: 1.1091 - accuracy: 0.7408 - val_loss: 1.0349 - val_accuracy: 0.7488\n"
     ]
    }
   ],
   "source": [
    "model.compile(optimizer=sgd,loss=\"categorical_crossentropy\",metrics=[\"accuracy\"])\n",
    "H = model.fit(x_train,y_train,validation_data=(x_test,y_test),epochs=10,batch_size=128)"
   ]
  },
  {
   "cell_type": "code",
   "execution_count": 12,
   "id": "35a9bb41",
   "metadata": {
    "colab": {
     "base_uri": "https://localhost:8080/"
    },
    "id": "35a9bb41",
    "outputId": "2c8f797d-e868-4aa6-b2dd-a3e578e2af42"
   },
   "outputs": [
    {
     "name": "stdout",
     "output_type": "stream",
     "text": [
      "79/79 [==============================] - 1s 5ms/step\n"
     ]
    }
   ],
   "source": [
    "predictions = model.predict(x_test,batch_size=128)"
   ]
  },
  {
   "cell_type": "code",
   "execution_count": 13,
   "id": "fe69457e",
   "metadata": {
    "id": "fe69457e"
   },
   "outputs": [],
   "source": [
    "from sklearn.metrics import classification_report"
   ]
  },
  {
   "cell_type": "code",
   "execution_count": 14,
   "id": "8b8d7b23",
   "metadata": {
    "colab": {
     "base_uri": "https://localhost:8080/"
    },
    "id": "8b8d7b23",
    "outputId": "4fafbb5a-7eba-4358-d1fc-d44314031b1d"
   },
   "outputs": [
    {
     "name": "stdout",
     "output_type": "stream",
     "text": [
      "              precision    recall  f1-score   support\n",
      "\n",
      "           0       0.81      0.97      0.88       980\n",
      "           1       0.75      0.98      0.85      1135\n",
      "           2       0.86      0.67      0.75      1032\n",
      "           3       0.68      0.88      0.77      1010\n",
      "           4       0.63      0.75      0.69       982\n",
      "           5       0.85      0.37      0.52       892\n",
      "           6       0.81      0.89      0.85       958\n",
      "           7       0.77      0.87      0.82      1028\n",
      "           8       0.75      0.62      0.68       974\n",
      "           9       0.63      0.42      0.50      1009\n",
      "\n",
      "    accuracy                           0.75     10000\n",
      "   macro avg       0.76      0.74      0.73     10000\n",
      "weighted avg       0.75      0.75      0.73     10000\n",
      "\n"
     ]
    }
   ],
   "source": [
    "print(classification_report(y_test.argmax(axis=1),predictions.argmax(axis=1)))"
   ]
  },
  {
   "cell_type": "code",
   "execution_count": 15,
   "id": "31a78d0e",
   "metadata": {
    "id": "31a78d0e"
   },
   "outputs": [],
   "source": [
    "import matplotlib.pyplot as plt\n",
    "import numpy as np"
   ]
  },
  {
   "cell_type": "code",
   "execution_count": 16,
   "id": "2cd8692f",
   "metadata": {
    "colab": {
     "base_uri": "https://localhost:8080/",
     "height": 489
    },
    "id": "2cd8692f",
    "outputId": "4b5f8150-58af-4d9f-ccfa-a6fa7877c157"
   },
   "outputs": [
    {
     "data": {
      "text/plain": [
       "<matplotlib.legend.Legend at 0x1de246545d0>"
      ]
     },
     "execution_count": 16,
     "metadata": {},
     "output_type": "execute_result"
    },
    {
     "data": {
      "image/png": "[encoded data removed]",
      "text/plain": [
       "<Figure size 640x480 with 1 Axes>"
      ]
     },
     "metadata": {},
     "output_type": "display_data"
    }
   ],
   "source": [
    "plt.plot(np.arange(0,10),H.history[\"loss\"],label='train_loss')\n",
    "plt.plot(np.arange(0,10),H.history[\"val_loss\"],label='val_loss')\n",
    "plt.plot(np.arange(0,10),H.history[\"accuracy\"],label='accuracy')\n",
    "plt.plot(np.arange(0,10),H.history[\"val_accuracy\"],label='val_accuracy')\n",
    "plt.title(\"Training Loss and Accuracy\")\n",
    "plt.xlabel(\"Epoch #\")\n",
    "plt.ylabel(\"Loss/Accuracy\")\n",
    "plt.legend()\n"
   ]
  },
  {
   "cell_type": "code",
   "execution_count": null,
   "id": "be888f5a",
   "metadata": {
    "id": "be888f5a"
   },
   "outputs": [],
   "source": []
  },
  {
   "cell_type": "code",
   "execution_count": null,
   "id": "1062349b",
   "metadata": {
    "id": "1062349b"
   },
   "outputs": [],
   "source": []
  },
  {
   "cell_type": "code",
   "execution_count": null,
   "id": "1198d9b0",
   "metadata": {
    "id": "1198d9b0"
   },
   "outputs": [],
   "source": []
  }
 ],
 "metadata": {
  "colab": {
   "provenance": []
  },
  "kernelspec": {
   "display_name": "Python 3 (ipykernel)",
   "language": "python",
   "name": "python3"
  },
  "language_info": {
   "codemirror_mode": {
    "name": "ipython",
    "version": 3
   },
   "file_extension": ".py",
   "mimetype": "text/x-python",
   "name": "python",
   "nbconvert_exporter": "python",
   "pygments_lexer": "ipython3",
   "version": "3.11.3"
  }
 },
 "nbformat": 4,
 "nbformat_minor": 5
}
