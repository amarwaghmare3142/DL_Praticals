{
 "cells": [
  {
   "cell_type": "markdown",
   "metadata": {
    "id": "i_GcJlVrDgBk"
   },
   "source": []
  },
  {
   "cell_type": "code",
   "execution_count": 1,
   "metadata": {
    "id": "V51q50EbF-T9",
    "scrolled": true
   },
   "outputs": [
    {
     "name": "stdout",
     "output_type": "stream",
     "text": [
      "WARNING:tensorflow:From C:\\Python311\\Lib\\site-packages\\keras\\src\\losses.py:2976: The name tf.losses.sparse_softmax_cross_entropy is deprecated. Please use tf.compat.v1.losses.sparse_softmax_cross_entropy instead.\n",
      "\n"
     ]
    }
   ],
   "source": [
    "#importing libraries\n",
    "from tensorflow import keras\n",
    " \n",
    "from keras.preprocessing import text\n",
    "from keras.utils import to_categorical  # Correct import\n",
    "\n",
    "from keras.preprocessing import sequence\n",
    "from keras.utils import pad_sequences\n",
    "import numpy as np\n",
    "import pandas as pd"
   ]
  },
  {
   "cell_type": "code",
   "execution_count": 2,
   "metadata": {
    "id": "wBUwYdBJElVz"
   },
   "outputs": [],
   "source": [
    "#taking random sentences as data\n",
    "data = \"\"\"Deep learning (also known as deep structured learning) is part of a broader family of machine learning methods based on artificial neural networks with representation learning. Learning can be supervised, semi-supervised or unsupervised. \n",
    "Deep-learning architectures such as deep neural networks, deep belief networks, deep reinforcement learning, recurrent neural networks, convolutional neural networks and Transformers have been applied to fields including computer vision, speech recognition, natural language processing, machine translation, bioinformatics, drug design, medical image analysis, climate science, material inspection and board game programs, where they have produced results comparable to and in some cases surpassing human expert performance.\n",
    "\"\"\"\n",
    "dl_data = data.split()"
   ]
  },
  {
   "cell_type": "code",
   "execution_count": 3,
   "metadata": {
    "colab": {
     "base_uri": "https://localhost:8080/"
    },
    "id": "celNk9LmEvm8",
    "outputId": "4e2143b6-92dc-452f-f468-7c9e6238e287"
   },
   "outputs": [
    {
     "name": "stdout",
     "output_type": "stream",
     "text": [
      "Vocabulary Size: 75\n",
      "Vocabulary Sample: [('learning', 1), ('deep', 2), ('networks', 3), ('neural', 4), ('and', 5), ('as', 6), ('of', 7), ('machine', 8), ('supervised', 9), ('have', 10)]\n"
     ]
    }
   ],
   "source": [
    "#tokenization\n",
    "tokenizer = text.Tokenizer()\n",
    "tokenizer.fit_on_texts(dl_data)\n",
    "word2id = tokenizer.word_index\n",
    "\n",
    "word2id['PAD'] = 0\n",
    "id2word = {v:k for k, v in word2id.items()}\n",
    "wids = [[word2id[w] for w in text.text_to_word_sequence(doc)] for doc in dl_data]\n",
    "\n",
    "vocab_size = len(word2id)\n",
    "embed_size = 100\n",
    "window_size = 2 \n",
    "\n",
    "print('Vocabulary Size:', vocab_size)\n",
    "print('Vocabulary Sample:', list(word2id.items())[:10])"
   ]
  },
  {
   "cell_type": "code",
   "execution_count": 4,
   "metadata": {
    "id": "AAxNYDanInQC"
   },
   "outputs": [],
   "source": [
    "# Define your generate_context_word_pairs function\n",
    "def generate_context_word_pairs(corpus, window_size=2, vocab_size=None):\n",
    "    context_length = window_size * 2\n",
    "\n",
    "    for words in corpus:\n",
    "        sentence_length = len(words)\n",
    "       \n",
    "        for index, word in enumerate(words):\n",
    "            context_words = []\n",
    "            label_word = []\n",
    "            start = index - window_size\n",
    "            end = index + window_size + 1\n",
    "\n",
    "            context_words.append([words[i] for i in range(start, end) if 0 <= i < sentence_length and i != index])\n",
    "            label_word.append(word)\n",
    "\n",
    "            x = pad_sequences(context_words, maxlen=context_length)\n",
    "            y = to_categorical(label_word, num_classes=vocab_size)  # Use to_categorical\n",
    "\n",
    "            yield (x, y)\n",
    "\n",
    "# Usage example\n",
    "i = 0\n",
    "for x, y in generate_context_word_pairs(wids, window_size=window_size, vocab_size=vocab_size):\n",
    "    # Your code to process x and y goes here\n",
    "    # You can remove the \"if not in x[0]:\" line as it's not necessary\n",
    "    # Print statements for context and target are commented out\n",
    "    # Adjust your processing logic here\n",
    "    pass\n",
    "\n",
    "    i += 1\n",
    "    if i == 10:\n",
    "        break\n"
   ]
  },
  {
   "cell_type": "code",
   "execution_count": 5,
   "metadata": {
    "colab": {
     "base_uri": "https://localhost:8080/"
    },
    "id": "Rb5dNmoZKZBv",
    "outputId": "b859c07e-6989-420d-b169-8aa0b93ff367"
   },
   "outputs": [
    {
     "name": "stdout",
     "output_type": "stream",
     "text": [
      "WARNING:tensorflow:From C:\\Python311\\Lib\\site-packages\\keras\\src\\backend.py:873: The name tf.get_default_graph is deprecated. Please use tf.compat.v1.get_default_graph instead.\n",
      "\n",
      "WARNING:tensorflow:From C:\\Python311\\Lib\\site-packages\\keras\\src\\optimizers\\__init__.py:309: The name tf.train.Optimizer is deprecated. Please use tf.compat.v1.train.Optimizer instead.\n",
      "\n",
      "Model: \"sequential\"\n",
      "_________________________________________________________________\n",
      " Layer (type)                Output Shape              Param #   \n",
      "=================================================================\n",
      " embedding (Embedding)       (None, 4, 100)            7500      \n",
      "                                                                 \n",
      " lambda (Lambda)             (None, 100)               0         \n",
      "                                                                 \n",
      " dense (Dense)               (None, 75)                7575      \n",
      "                                                                 \n",
      "=================================================================\n",
      "Total params: 15075 (58.89 KB)\n",
      "Trainable params: 15075 (58.89 KB)\n",
      "Non-trainable params: 0 (0.00 Byte)\n",
      "_________________________________________________________________\n",
      "None\n"
     ]
    }
   ],
   "source": [
    "#model building\n",
    "import keras.backend as K\n",
    "from keras.models import Sequential\n",
    "from keras.layers import Dense, Embedding, Lambda\n",
    "\n",
    "cbow = Sequential()\n",
    "cbow.add(Embedding(input_dim=vocab_size, output_dim=embed_size, input_length=window_size*2))\n",
    "cbow.add(Lambda(lambda x: K.mean(x, axis=1), output_shape=(embed_size,)))\n",
    "cbow.add(Dense(vocab_size, activation='softmax'))\n",
    "cbow.compile(loss='categorical_crossentropy', optimizer='rmsprop')\n",
    "\n",
    "print(cbow.summary())\n",
    "\n",
    "# from IPython.display import SVG\n",
    "# from keras.utils.vis_utils import model_to_dot\n",
    "\n",
    "# SVG(model_to_dot(cbow, show_shapes=True, show_layer_names=False, rankdir='TB').create(prog='dot', format='svg'))"
   ]
  },
  {
   "cell_type": "code",
   "execution_count": 6,
   "metadata": {
    "colab": {
     "base_uri": "https://localhost:8080/"
    },
    "id": "xs12C3MDK1q4",
    "outputId": "fe8783b3-0ee1-4286-be40-6713afa14f9c"
   },
   "outputs": [
    {
     "name": "stdout",
     "output_type": "stream",
     "text": [
      "WARNING:tensorflow:From C:\\Python311\\Lib\\site-packages\\keras\\src\\utils\\tf_utils.py:492: The name tf.ragged.RaggedTensorValue is deprecated. Please use tf.compat.v1.ragged.RaggedTensorValue instead.\n",
      "\n",
      "Epoch: 1 \tLoss: 433.5798420906067\n",
      "\n",
      "Epoch: 2 \tLoss: 429.32352900505066\n",
      "\n",
      "Epoch: 3 \tLoss: 426.22231578826904\n",
      "\n",
      "Epoch: 4 \tLoss: 423.20136857032776\n",
      "\n",
      "Epoch: 5 \tLoss: 420.7082929611206\n",
      "\n"
     ]
    }
   ],
   "source": [
    "for epoch in range(1, 6):\n",
    "    loss = 0.\n",
    "    i = 0\n",
    "    for x, y in generate_context_word_pairs(corpus=wids, window_size=window_size, vocab_size=vocab_size):\n",
    "        i += 1\n",
    "        loss += cbow.train_on_batch(x, y)\n",
    "        if i % 100000 == 0:\n",
    "            print('Processed {} (context, word) pairs'.format(i))\n",
    "\n",
    "    print('Epoch:', epoch, '\\tLoss:', loss)\n",
    "    print()"
   ]
  },
  {
   "cell_type": "code",
   "execution_count": 7,
   "metadata": {
    "colab": {
     "base_uri": "https://localhost:8080/",
     "height": 253
    },
    "id": "TZ3_QGKVK6Tj",
    "outputId": "cd9d167a-85a3-4cc9-eccb-faf997526122"
   },
   "outputs": [
    {
     "name": "stdout",
     "output_type": "stream",
     "text": [
      "(74, 100)\n"
     ]
    },
    {
     "data": {
      "text/html": [
       "<div>\n",
       "<style scoped>\n",
       "    .dataframe tbody tr th:only-of-type {\n",
       "        vertical-align: middle;\n",
       "    }\n",
       "\n",
       "    .dataframe tbody tr th {\n",
       "        vertical-align: top;\n",
       "    }\n",
       "\n",
       "    .dataframe thead th {\n",
       "        text-align: right;\n",
       "    }\n",
       "</style>\n",
       "<table border=\"1\" class=\"dataframe\">\n",
       "  <thead>\n",
       "    <tr style=\"text-align: right;\">\n",
       "      <th></th>\n",
       "      <th>0</th>\n",
       "      <th>1</th>\n",
       "      <th>2</th>\n",
       "      <th>3</th>\n",
       "      <th>4</th>\n",
       "      <th>5</th>\n",
       "      <th>6</th>\n",
       "      <th>7</th>\n",
       "      <th>8</th>\n",
       "      <th>9</th>\n",
       "      <th>...</th>\n",
       "      <th>90</th>\n",
       "      <th>91</th>\n",
       "      <th>92</th>\n",
       "      <th>93</th>\n",
       "      <th>94</th>\n",
       "      <th>95</th>\n",
       "      <th>96</th>\n",
       "      <th>97</th>\n",
       "      <th>98</th>\n",
       "      <th>99</th>\n",
       "    </tr>\n",
       "  </thead>\n",
       "  <tbody>\n",
       "    <tr>\n",
       "      <th>deep</th>\n",
       "      <td>0.009698</td>\n",
       "      <td>-0.027849</td>\n",
       "      <td>0.032922</td>\n",
       "      <td>-0.042073</td>\n",
       "      <td>0.057088</td>\n",
       "      <td>0.010997</td>\n",
       "      <td>0.036490</td>\n",
       "      <td>0.021997</td>\n",
       "      <td>0.001519</td>\n",
       "      <td>-0.020211</td>\n",
       "      <td>...</td>\n",
       "      <td>-0.032118</td>\n",
       "      <td>0.031443</td>\n",
       "      <td>-0.051236</td>\n",
       "      <td>-0.030324</td>\n",
       "      <td>0.042352</td>\n",
       "      <td>0.022034</td>\n",
       "      <td>0.050413</td>\n",
       "      <td>-0.038029</td>\n",
       "      <td>-0.041890</td>\n",
       "      <td>0.017192</td>\n",
       "    </tr>\n",
       "    <tr>\n",
       "      <th>networks</th>\n",
       "      <td>0.002469</td>\n",
       "      <td>-0.064353</td>\n",
       "      <td>-0.006211</td>\n",
       "      <td>0.058111</td>\n",
       "      <td>0.003775</td>\n",
       "      <td>-0.038733</td>\n",
       "      <td>-0.033303</td>\n",
       "      <td>-0.024190</td>\n",
       "      <td>0.059570</td>\n",
       "      <td>0.060670</td>\n",
       "      <td>...</td>\n",
       "      <td>0.032534</td>\n",
       "      <td>0.055773</td>\n",
       "      <td>-0.031962</td>\n",
       "      <td>0.035971</td>\n",
       "      <td>0.000983</td>\n",
       "      <td>-0.060988</td>\n",
       "      <td>-0.023376</td>\n",
       "      <td>-0.020964</td>\n",
       "      <td>0.012990</td>\n",
       "      <td>0.003148</td>\n",
       "    </tr>\n",
       "    <tr>\n",
       "      <th>neural</th>\n",
       "      <td>0.041892</td>\n",
       "      <td>-0.043560</td>\n",
       "      <td>0.016013</td>\n",
       "      <td>0.039851</td>\n",
       "      <td>0.005543</td>\n",
       "      <td>0.043014</td>\n",
       "      <td>0.019749</td>\n",
       "      <td>0.036206</td>\n",
       "      <td>-0.022977</td>\n",
       "      <td>0.043284</td>\n",
       "      <td>...</td>\n",
       "      <td>-0.035868</td>\n",
       "      <td>-0.047640</td>\n",
       "      <td>0.034520</td>\n",
       "      <td>0.040007</td>\n",
       "      <td>0.023592</td>\n",
       "      <td>0.043557</td>\n",
       "      <td>-0.030098</td>\n",
       "      <td>-0.012024</td>\n",
       "      <td>0.029206</td>\n",
       "      <td>0.007278</td>\n",
       "    </tr>\n",
       "    <tr>\n",
       "      <th>and</th>\n",
       "      <td>0.039648</td>\n",
       "      <td>-0.046574</td>\n",
       "      <td>-0.027498</td>\n",
       "      <td>-0.045692</td>\n",
       "      <td>-0.046321</td>\n",
       "      <td>0.018051</td>\n",
       "      <td>-0.002250</td>\n",
       "      <td>-0.025804</td>\n",
       "      <td>0.047950</td>\n",
       "      <td>0.030197</td>\n",
       "      <td>...</td>\n",
       "      <td>0.044042</td>\n",
       "      <td>-0.032497</td>\n",
       "      <td>0.017453</td>\n",
       "      <td>-0.041595</td>\n",
       "      <td>-0.019190</td>\n",
       "      <td>-0.033120</td>\n",
       "      <td>0.001812</td>\n",
       "      <td>0.012192</td>\n",
       "      <td>0.031359</td>\n",
       "      <td>0.000539</td>\n",
       "    </tr>\n",
       "    <tr>\n",
       "      <th>as</th>\n",
       "      <td>0.005487</td>\n",
       "      <td>0.004296</td>\n",
       "      <td>0.028438</td>\n",
       "      <td>-0.024228</td>\n",
       "      <td>0.003662</td>\n",
       "      <td>-0.018548</td>\n",
       "      <td>0.036648</td>\n",
       "      <td>0.027335</td>\n",
       "      <td>-0.026443</td>\n",
       "      <td>0.035379</td>\n",
       "      <td>...</td>\n",
       "      <td>-0.035672</td>\n",
       "      <td>0.004895</td>\n",
       "      <td>0.030033</td>\n",
       "      <td>-0.025529</td>\n",
       "      <td>0.029138</td>\n",
       "      <td>0.018348</td>\n",
       "      <td>0.030057</td>\n",
       "      <td>-0.034538</td>\n",
       "      <td>0.024941</td>\n",
       "      <td>0.037755</td>\n",
       "    </tr>\n",
       "  </tbody>\n",
       "</table>\n",
       "<p>5 rows × 100 columns</p>\n",
       "</div>"
      ],
      "text/plain": [
       "                0         1         2         3         4         5   \\\n",
       "deep      0.009698 -0.027849  0.032922 -0.042073  0.057088  0.010997   \n",
       "networks  0.002469 -0.064353 -0.006211  0.058111  0.003775 -0.038733   \n",
       "neural    0.041892 -0.043560  0.016013  0.039851  0.005543  0.043014   \n",
       "and       0.039648 -0.046574 -0.027498 -0.045692 -0.046321  0.018051   \n",
       "as        0.005487  0.004296  0.028438 -0.024228  0.003662 -0.018548   \n",
       "\n",
       "                6         7         8         9   ...        90        91  \\\n",
       "deep      0.036490  0.021997  0.001519 -0.020211  ... -0.032118  0.031443   \n",
       "networks -0.033303 -0.024190  0.059570  0.060670  ...  0.032534  0.055773   \n",
       "neural    0.019749  0.036206 -0.022977  0.043284  ... -0.035868 -0.047640   \n",
       "and      -0.002250 -0.025804  0.047950  0.030197  ...  0.044042 -0.032497   \n",
       "as        0.036648  0.027335 -0.026443  0.035379  ... -0.035672  0.004895   \n",
       "\n",
       "                92        93        94        95        96        97  \\\n",
       "deep     -0.051236 -0.030324  0.042352  0.022034  0.050413 -0.038029   \n",
       "networks -0.031962  0.035971  0.000983 -0.060988 -0.023376 -0.020964   \n",
       "neural    0.034520  0.040007  0.023592  0.043557 -0.030098 -0.012024   \n",
       "and       0.017453 -0.041595 -0.019190 -0.033120  0.001812  0.012192   \n",
       "as        0.030033 -0.025529  0.029138  0.018348  0.030057 -0.034538   \n",
       "\n",
       "                98        99  \n",
       "deep     -0.041890  0.017192  \n",
       "networks  0.012990  0.003148  \n",
       "neural    0.029206  0.007278  \n",
       "and       0.031359  0.000539  \n",
       "as        0.024941  0.037755  \n",
       "\n",
       "[5 rows x 100 columns]"
      ]
     },
     "execution_count": 7,
     "metadata": {},
     "output_type": "execute_result"
    }
   ],
   "source": [
    "weights = cbow.get_weights()[0]\n",
    "weights = weights[1:]\n",
    "print(weights.shape)\n",
    "\n",
    "pd.DataFrame(weights, index=list(id2word.values())[1:]).head()"
   ]
  },
  {
   "cell_type": "code",
   "execution_count": 8,
   "metadata": {
    "colab": {
     "base_uri": "https://localhost:8080/"
    },
    "id": "UFs2IAn_LAYS",
    "outputId": "87ae1249-6a80-484f-b4a2-4d5f20734db7"
   },
   "outputs": [
    {
     "name": "stdout",
     "output_type": "stream",
     "text": [
      "(74, 74)\n"
     ]
    },
    {
     "data": {
      "text/plain": [
       "{'deep': ['results', 'programs', 'or', 'material', 'produced']}"
      ]
     },
     "execution_count": 8,
     "metadata": {},
     "output_type": "execute_result"
    }
   ],
   "source": [
    "from sklearn.metrics.pairwise import euclidean_distances\n",
    "\n",
    "distance_matrix = euclidean_distances(weights)\n",
    "print(distance_matrix.shape)\n",
    "\n",
    "similar_words = {search_term: [id2word[idx] for idx in distance_matrix[word2id[search_term]-1].argsort()[1:6]+1] \n",
    "                   for search_term in ['deep']}\n",
    "\n",
    "similar_words"
   ]
  },
  {
   "cell_type": "code",
   "execution_count": null,
   "metadata": {},
   "outputs": [],
   "source": []
  },
  {
   "cell_type": "code",
   "execution_count": null,
   "metadata": {},
   "outputs": [],
   "source": []
  },
  {
   "cell_type": "code",
   "execution_count": null,
   "metadata": {},
   "outputs": [],
   "source": []
  },
  {
   "cell_type": "code",
   "execution_count": null,
   "metadata": {},
   "outputs": [],
   "source": []
  }
 ],
 "metadata": {
  "colab": {
   "collapsed_sections": [],
   "provenance": []
  },
  "kernelspec": {
   "display_name": "Python 3 (ipykernel)",
   "language": "python",
   "name": "python3"
  },
  "language_info": {
   "codemirror_mode": {
    "name": "ipython",
    "version": 3
   },
   "file_extension": ".py",
   "mimetype": "text/x-python",
   "name": "python",
   "nbconvert_exporter": "python",
   "pygments_lexer": "ipython3",
   "version": "3.11.3"
  }
 },
 "nbformat": 4,
 "nbformat_minor": 4
}
